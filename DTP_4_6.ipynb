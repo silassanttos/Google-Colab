{
  "nbformat": 4,
  "nbformat_minor": 0,
  "metadata": {
    "colab": {
      "name": "DTP_4_6.ipynb",
      "provenance": [],
      "collapsed_sections": []
    },
    "kernelspec": {
      "name": "python3",
      "display_name": "Python 3"
    },
    "language_info": {
      "name": "python"
    }
  },
  "cells": [
    {
      "cell_type": "code",
      "execution_count": null,
      "metadata": {
        "id": "UtYetNWuZMNK"
      },
      "outputs": [],
      "source": [
        "import pandas as pd\n",
        "import pandas.util.testing  as tm\n",
        "import numpy as np\n",
        "import matplotlib.pyplot as plt\n",
        "import plotly.express as px\n",
        "from sklearn.linear_model import LinearRegression\n",
        "import seaborn as sns #biblioteca para gráficos\n",
        "import statsmodels.api as sm"
      ]
    },
    {
      "cell_type": "code",
      "source": [
        " #Abrindo o arquivo de dados\n",
        "dados_custoDiaria = pd.read_csv(\"custo_diaria.csv\", sep=\";\").astype(int)"
      ],
      "metadata": {
        "id": "x7_IVFZpuTgu"
      },
      "execution_count": null,
      "outputs": []
    },
    {
      "cell_type": "code",
      "source": [
        "#Visualizando arquivos da base de dados\n",
        "dados_custoDiaria.head"
      ],
      "metadata": {
        "colab": {
          "base_uri": "https://localhost:8080/"
        },
        "id": "CQXV_rrlzCa9",
        "outputId": "a9baff0b-e5f0-44e2-d320-85913fa3b336"
      },
      "execution_count": null,
      "outputs": [
        {
          "output_type": "execute_result",
          "data": {
            "text/plain": [
              "<bound method NDFrame.head of     qtd_pessoas  valor_diaria\n",
              "0             1           150\n",
              "1             3           200\n",
              "2             4           650\n",
              "3             6           499\n",
              "4             7           549\n",
              "5            10           980\n",
              "6            12           700\n",
              "7            13           735\n",
              "8            15           859\n",
              "9            16           900\n",
              "10           20          1100\n",
              "11           18           989\n",
              "12           22          1075\n",
              "13           23          1378\n",
              "14           25          1500\n",
              "15           27          1755\n",
              "16           30          1850\n",
              "17           32          2500\n",
              "18           33          2000\n",
              "19           40          1900\n",
              "20           42          2089\n",
              "21           43          2500\n",
              "22           45          2250\n",
              "23           47          2488\n",
              "24           50          2680\n",
              "25           51          2803\n",
              "26           52          2890\n",
              "27           53          3040\n",
              "28           58          3150\n",
              "29           60          3300>"
            ]
          },
          "metadata": {},
          "execution_count": 8
        }
      ]
    },
    {
      "cell_type": "code",
      "source": [
        "pd.DataFrame(dados_custoDiaria)"
      ],
      "metadata": {
        "colab": {
          "base_uri": "https://localhost:8080/",
          "height": 990
        },
        "id": "_NlpVqPWwVFv",
        "outputId": "acc8fb6d-40f6-4ca8-b9e1-7781f279a5cb"
      },
      "execution_count": null,
      "outputs": [
        {
          "output_type": "execute_result",
          "data": {
            "text/plain": [
              "    qtd_pessoas  valor_diaria\n",
              "0             1           150\n",
              "1             3           200\n",
              "2             4           650\n",
              "3             6           499\n",
              "4             7           549\n",
              "5            10           980\n",
              "6            12           700\n",
              "7            13           735\n",
              "8            15           859\n",
              "9            16           900\n",
              "10           20          1100\n",
              "11           18           989\n",
              "12           22          1075\n",
              "13           23          1378\n",
              "14           25          1500\n",
              "15           27          1755\n",
              "16           30          1850\n",
              "17           32          2500\n",
              "18           33          2000\n",
              "19           40          1900\n",
              "20           42          2089\n",
              "21           43          2500\n",
              "22           45          2250\n",
              "23           47          2488\n",
              "24           50          2680\n",
              "25           51          2803\n",
              "26           52          2890\n",
              "27           53          3040\n",
              "28           58          3150\n",
              "29           60          3300"
            ],
            "text/html": [
              "\n",
              "  <div id=\"df-6f45854b-2713-4ec3-9aa6-46501d2e3dac\">\n",
              "    <div class=\"colab-df-container\">\n",
              "      <div>\n",
              "<style scoped>\n",
              "    .dataframe tbody tr th:only-of-type {\n",
              "        vertical-align: middle;\n",
              "    }\n",
              "\n",
              "    .dataframe tbody tr th {\n",
              "        vertical-align: top;\n",
              "    }\n",
              "\n",
              "    .dataframe thead th {\n",
              "        text-align: right;\n",
              "    }\n",
              "</style>\n",
              "<table border=\"1\" class=\"dataframe\">\n",
              "  <thead>\n",
              "    <tr style=\"text-align: right;\">\n",
              "      <th></th>\n",
              "      <th>qtd_pessoas</th>\n",
              "      <th>valor_diaria</th>\n",
              "    </tr>\n",
              "  </thead>\n",
              "  <tbody>\n",
              "    <tr>\n",
              "      <th>0</th>\n",
              "      <td>1</td>\n",
              "      <td>150</td>\n",
              "    </tr>\n",
              "    <tr>\n",
              "      <th>1</th>\n",
              "      <td>3</td>\n",
              "      <td>200</td>\n",
              "    </tr>\n",
              "    <tr>\n",
              "      <th>2</th>\n",
              "      <td>4</td>\n",
              "      <td>650</td>\n",
              "    </tr>\n",
              "    <tr>\n",
              "      <th>3</th>\n",
              "      <td>6</td>\n",
              "      <td>499</td>\n",
              "    </tr>\n",
              "    <tr>\n",
              "      <th>4</th>\n",
              "      <td>7</td>\n",
              "      <td>549</td>\n",
              "    </tr>\n",
              "    <tr>\n",
              "      <th>5</th>\n",
              "      <td>10</td>\n",
              "      <td>980</td>\n",
              "    </tr>\n",
              "    <tr>\n",
              "      <th>6</th>\n",
              "      <td>12</td>\n",
              "      <td>700</td>\n",
              "    </tr>\n",
              "    <tr>\n",
              "      <th>7</th>\n",
              "      <td>13</td>\n",
              "      <td>735</td>\n",
              "    </tr>\n",
              "    <tr>\n",
              "      <th>8</th>\n",
              "      <td>15</td>\n",
              "      <td>859</td>\n",
              "    </tr>\n",
              "    <tr>\n",
              "      <th>9</th>\n",
              "      <td>16</td>\n",
              "      <td>900</td>\n",
              "    </tr>\n",
              "    <tr>\n",
              "      <th>10</th>\n",
              "      <td>20</td>\n",
              "      <td>1100</td>\n",
              "    </tr>\n",
              "    <tr>\n",
              "      <th>11</th>\n",
              "      <td>18</td>\n",
              "      <td>989</td>\n",
              "    </tr>\n",
              "    <tr>\n",
              "      <th>12</th>\n",
              "      <td>22</td>\n",
              "      <td>1075</td>\n",
              "    </tr>\n",
              "    <tr>\n",
              "      <th>13</th>\n",
              "      <td>23</td>\n",
              "      <td>1378</td>\n",
              "    </tr>\n",
              "    <tr>\n",
              "      <th>14</th>\n",
              "      <td>25</td>\n",
              "      <td>1500</td>\n",
              "    </tr>\n",
              "    <tr>\n",
              "      <th>15</th>\n",
              "      <td>27</td>\n",
              "      <td>1755</td>\n",
              "    </tr>\n",
              "    <tr>\n",
              "      <th>16</th>\n",
              "      <td>30</td>\n",
              "      <td>1850</td>\n",
              "    </tr>\n",
              "    <tr>\n",
              "      <th>17</th>\n",
              "      <td>32</td>\n",
              "      <td>2500</td>\n",
              "    </tr>\n",
              "    <tr>\n",
              "      <th>18</th>\n",
              "      <td>33</td>\n",
              "      <td>2000</td>\n",
              "    </tr>\n",
              "    <tr>\n",
              "      <th>19</th>\n",
              "      <td>40</td>\n",
              "      <td>1900</td>\n",
              "    </tr>\n",
              "    <tr>\n",
              "      <th>20</th>\n",
              "      <td>42</td>\n",
              "      <td>2089</td>\n",
              "    </tr>\n",
              "    <tr>\n",
              "      <th>21</th>\n",
              "      <td>43</td>\n",
              "      <td>2500</td>\n",
              "    </tr>\n",
              "    <tr>\n",
              "      <th>22</th>\n",
              "      <td>45</td>\n",
              "      <td>2250</td>\n",
              "    </tr>\n",
              "    <tr>\n",
              "      <th>23</th>\n",
              "      <td>47</td>\n",
              "      <td>2488</td>\n",
              "    </tr>\n",
              "    <tr>\n",
              "      <th>24</th>\n",
              "      <td>50</td>\n",
              "      <td>2680</td>\n",
              "    </tr>\n",
              "    <tr>\n",
              "      <th>25</th>\n",
              "      <td>51</td>\n",
              "      <td>2803</td>\n",
              "    </tr>\n",
              "    <tr>\n",
              "      <th>26</th>\n",
              "      <td>52</td>\n",
              "      <td>2890</td>\n",
              "    </tr>\n",
              "    <tr>\n",
              "      <th>27</th>\n",
              "      <td>53</td>\n",
              "      <td>3040</td>\n",
              "    </tr>\n",
              "    <tr>\n",
              "      <th>28</th>\n",
              "      <td>58</td>\n",
              "      <td>3150</td>\n",
              "    </tr>\n",
              "    <tr>\n",
              "      <th>29</th>\n",
              "      <td>60</td>\n",
              "      <td>3300</td>\n",
              "    </tr>\n",
              "  </tbody>\n",
              "</table>\n",
              "</div>\n",
              "      <button class=\"colab-df-convert\" onclick=\"convertToInteractive('df-6f45854b-2713-4ec3-9aa6-46501d2e3dac')\"\n",
              "              title=\"Convert this dataframe to an interactive table.\"\n",
              "              style=\"display:none;\">\n",
              "        \n",
              "  <svg xmlns=\"http://www.w3.org/2000/svg\" height=\"24px\"viewBox=\"0 0 24 24\"\n",
              "       width=\"24px\">\n",
              "    <path d=\"M0 0h24v24H0V0z\" fill=\"none\"/>\n",
              "    <path d=\"M18.56 5.44l.94 2.06.94-2.06 2.06-.94-2.06-.94-.94-2.06-.94 2.06-2.06.94zm-11 1L8.5 8.5l.94-2.06 2.06-.94-2.06-.94L8.5 2.5l-.94 2.06-2.06.94zm10 10l.94 2.06.94-2.06 2.06-.94-2.06-.94-.94-2.06-.94 2.06-2.06.94z\"/><path d=\"M17.41 7.96l-1.37-1.37c-.4-.4-.92-.59-1.43-.59-.52 0-1.04.2-1.43.59L10.3 9.45l-7.72 7.72c-.78.78-.78 2.05 0 2.83L4 21.41c.39.39.9.59 1.41.59.51 0 1.02-.2 1.41-.59l7.78-7.78 2.81-2.81c.8-.78.8-2.07 0-2.86zM5.41 20L4 18.59l7.72-7.72 1.47 1.35L5.41 20z\"/>\n",
              "  </svg>\n",
              "      </button>\n",
              "      \n",
              "  <style>\n",
              "    .colab-df-container {\n",
              "      display:flex;\n",
              "      flex-wrap:wrap;\n",
              "      gap: 12px;\n",
              "    }\n",
              "\n",
              "    .colab-df-convert {\n",
              "      background-color: #E8F0FE;\n",
              "      border: none;\n",
              "      border-radius: 50%;\n",
              "      cursor: pointer;\n",
              "      display: none;\n",
              "      fill: #1967D2;\n",
              "      height: 32px;\n",
              "      padding: 0 0 0 0;\n",
              "      width: 32px;\n",
              "    }\n",
              "\n",
              "    .colab-df-convert:hover {\n",
              "      background-color: #E2EBFA;\n",
              "      box-shadow: 0px 1px 2px rgba(60, 64, 67, 0.3), 0px 1px 3px 1px rgba(60, 64, 67, 0.15);\n",
              "      fill: #174EA6;\n",
              "    }\n",
              "\n",
              "    [theme=dark] .colab-df-convert {\n",
              "      background-color: #3B4455;\n",
              "      fill: #D2E3FC;\n",
              "    }\n",
              "\n",
              "    [theme=dark] .colab-df-convert:hover {\n",
              "      background-color: #434B5C;\n",
              "      box-shadow: 0px 1px 3px 1px rgba(0, 0, 0, 0.15);\n",
              "      filter: drop-shadow(0px 1px 2px rgba(0, 0, 0, 0.3));\n",
              "      fill: #FFFFFF;\n",
              "    }\n",
              "  </style>\n",
              "\n",
              "      <script>\n",
              "        const buttonEl =\n",
              "          document.querySelector('#df-6f45854b-2713-4ec3-9aa6-46501d2e3dac button.colab-df-convert');\n",
              "        buttonEl.style.display =\n",
              "          google.colab.kernel.accessAllowed ? 'block' : 'none';\n",
              "\n",
              "        async function convertToInteractive(key) {\n",
              "          const element = document.querySelector('#df-6f45854b-2713-4ec3-9aa6-46501d2e3dac');\n",
              "          const dataTable =\n",
              "            await google.colab.kernel.invokeFunction('convertToInteractive',\n",
              "                                                     [key], {});\n",
              "          if (!dataTable) return;\n",
              "\n",
              "          const docLinkHtml = 'Like what you see? Visit the ' +\n",
              "            '<a target=\"_blank\" href=https://colab.research.google.com/notebooks/data_table.ipynb>data table notebook</a>'\n",
              "            + ' to learn more about interactive tables.';\n",
              "          element.innerHTML = '';\n",
              "          dataTable['output_type'] = 'display_data';\n",
              "          await google.colab.output.renderOutput(dataTable, element);\n",
              "          const docLink = document.createElement('div');\n",
              "          docLink.innerHTML = docLinkHtml;\n",
              "          element.appendChild(docLink);\n",
              "        }\n",
              "      </script>\n",
              "    </div>\n",
              "  </div>\n",
              "  "
            ]
          },
          "metadata": {},
          "execution_count": 9
        }
      ]
    },
    {
      "cell_type": "code",
      "source": [
        "#Estatisticas da base\n",
        "# mean Qual é a média obtida através da análise da quantidade de pessoas? 28.6\n",
        "# std:: Qual é o desvio padrão obtido através da análise dos valores das diárias? 950.52\n",
        "\n",
        "dados_custoDiaria.describe()"
      ],
      "metadata": {
        "colab": {
          "base_uri": "https://localhost:8080/",
          "height": 300
        },
        "id": "hpp1v4JQw_8V",
        "outputId": "9a539dad-4088-4388-d793-4e5a4c592caf"
      },
      "execution_count": null,
      "outputs": [
        {
          "output_type": "execute_result",
          "data": {
            "text/plain": [
              "       qtd_pessoas  valor_diaria\n",
              "count    30.000000     30.000000\n",
              "mean     28.600000   1648.633333\n",
              "std      18.189804    950.522197\n",
              "min       1.000000    150.000000\n",
              "25%      13.500000    869.250000\n",
              "50%      26.000000   1627.500000\n",
              "75%      44.500000   2497.000000\n",
              "max      60.000000   3300.000000"
            ],
            "text/html": [
              "\n",
              "  <div id=\"df-bb28ce89-788a-46bd-8edb-0481e52f73b8\">\n",
              "    <div class=\"colab-df-container\">\n",
              "      <div>\n",
              "<style scoped>\n",
              "    .dataframe tbody tr th:only-of-type {\n",
              "        vertical-align: middle;\n",
              "    }\n",
              "\n",
              "    .dataframe tbody tr th {\n",
              "        vertical-align: top;\n",
              "    }\n",
              "\n",
              "    .dataframe thead th {\n",
              "        text-align: right;\n",
              "    }\n",
              "</style>\n",
              "<table border=\"1\" class=\"dataframe\">\n",
              "  <thead>\n",
              "    <tr style=\"text-align: right;\">\n",
              "      <th></th>\n",
              "      <th>qtd_pessoas</th>\n",
              "      <th>valor_diaria</th>\n",
              "    </tr>\n",
              "  </thead>\n",
              "  <tbody>\n",
              "    <tr>\n",
              "      <th>count</th>\n",
              "      <td>30.000000</td>\n",
              "      <td>30.000000</td>\n",
              "    </tr>\n",
              "    <tr>\n",
              "      <th>mean</th>\n",
              "      <td>28.600000</td>\n",
              "      <td>1648.633333</td>\n",
              "    </tr>\n",
              "    <tr>\n",
              "      <th>std</th>\n",
              "      <td>18.189804</td>\n",
              "      <td>950.522197</td>\n",
              "    </tr>\n",
              "    <tr>\n",
              "      <th>min</th>\n",
              "      <td>1.000000</td>\n",
              "      <td>150.000000</td>\n",
              "    </tr>\n",
              "    <tr>\n",
              "      <th>25%</th>\n",
              "      <td>13.500000</td>\n",
              "      <td>869.250000</td>\n",
              "    </tr>\n",
              "    <tr>\n",
              "      <th>50%</th>\n",
              "      <td>26.000000</td>\n",
              "      <td>1627.500000</td>\n",
              "    </tr>\n",
              "    <tr>\n",
              "      <th>75%</th>\n",
              "      <td>44.500000</td>\n",
              "      <td>2497.000000</td>\n",
              "    </tr>\n",
              "    <tr>\n",
              "      <th>max</th>\n",
              "      <td>60.000000</td>\n",
              "      <td>3300.000000</td>\n",
              "    </tr>\n",
              "  </tbody>\n",
              "</table>\n",
              "</div>\n",
              "      <button class=\"colab-df-convert\" onclick=\"convertToInteractive('df-bb28ce89-788a-46bd-8edb-0481e52f73b8')\"\n",
              "              title=\"Convert this dataframe to an interactive table.\"\n",
              "              style=\"display:none;\">\n",
              "        \n",
              "  <svg xmlns=\"http://www.w3.org/2000/svg\" height=\"24px\"viewBox=\"0 0 24 24\"\n",
              "       width=\"24px\">\n",
              "    <path d=\"M0 0h24v24H0V0z\" fill=\"none\"/>\n",
              "    <path d=\"M18.56 5.44l.94 2.06.94-2.06 2.06-.94-2.06-.94-.94-2.06-.94 2.06-2.06.94zm-11 1L8.5 8.5l.94-2.06 2.06-.94-2.06-.94L8.5 2.5l-.94 2.06-2.06.94zm10 10l.94 2.06.94-2.06 2.06-.94-2.06-.94-.94-2.06-.94 2.06-2.06.94z\"/><path d=\"M17.41 7.96l-1.37-1.37c-.4-.4-.92-.59-1.43-.59-.52 0-1.04.2-1.43.59L10.3 9.45l-7.72 7.72c-.78.78-.78 2.05 0 2.83L4 21.41c.39.39.9.59 1.41.59.51 0 1.02-.2 1.41-.59l7.78-7.78 2.81-2.81c.8-.78.8-2.07 0-2.86zM5.41 20L4 18.59l7.72-7.72 1.47 1.35L5.41 20z\"/>\n",
              "  </svg>\n",
              "      </button>\n",
              "      \n",
              "  <style>\n",
              "    .colab-df-container {\n",
              "      display:flex;\n",
              "      flex-wrap:wrap;\n",
              "      gap: 12px;\n",
              "    }\n",
              "\n",
              "    .colab-df-convert {\n",
              "      background-color: #E8F0FE;\n",
              "      border: none;\n",
              "      border-radius: 50%;\n",
              "      cursor: pointer;\n",
              "      display: none;\n",
              "      fill: #1967D2;\n",
              "      height: 32px;\n",
              "      padding: 0 0 0 0;\n",
              "      width: 32px;\n",
              "    }\n",
              "\n",
              "    .colab-df-convert:hover {\n",
              "      background-color: #E2EBFA;\n",
              "      box-shadow: 0px 1px 2px rgba(60, 64, 67, 0.3), 0px 1px 3px 1px rgba(60, 64, 67, 0.15);\n",
              "      fill: #174EA6;\n",
              "    }\n",
              "\n",
              "    [theme=dark] .colab-df-convert {\n",
              "      background-color: #3B4455;\n",
              "      fill: #D2E3FC;\n",
              "    }\n",
              "\n",
              "    [theme=dark] .colab-df-convert:hover {\n",
              "      background-color: #434B5C;\n",
              "      box-shadow: 0px 1px 3px 1px rgba(0, 0, 0, 0.15);\n",
              "      filter: drop-shadow(0px 1px 2px rgba(0, 0, 0, 0.3));\n",
              "      fill: #FFFFFF;\n",
              "    }\n",
              "  </style>\n",
              "\n",
              "      <script>\n",
              "        const buttonEl =\n",
              "          document.querySelector('#df-bb28ce89-788a-46bd-8edb-0481e52f73b8 button.colab-df-convert');\n",
              "        buttonEl.style.display =\n",
              "          google.colab.kernel.accessAllowed ? 'block' : 'none';\n",
              "\n",
              "        async function convertToInteractive(key) {\n",
              "          const element = document.querySelector('#df-bb28ce89-788a-46bd-8edb-0481e52f73b8');\n",
              "          const dataTable =\n",
              "            await google.colab.kernel.invokeFunction('convertToInteractive',\n",
              "                                                     [key], {});\n",
              "          if (!dataTable) return;\n",
              "\n",
              "          const docLinkHtml = 'Like what you see? Visit the ' +\n",
              "            '<a target=\"_blank\" href=https://colab.research.google.com/notebooks/data_table.ipynb>data table notebook</a>'\n",
              "            + ' to learn more about interactive tables.';\n",
              "          element.innerHTML = '';\n",
              "          dataTable['output_type'] = 'display_data';\n",
              "          await google.colab.output.renderOutput(dataTable, element);\n",
              "          const docLink = document.createElement('div');\n",
              "          docLink.innerHTML = docLinkHtml;\n",
              "          element.appendChild(docLink);\n",
              "        }\n",
              "      </script>\n",
              "    </div>\n",
              "  </div>\n",
              "  "
            ]
          },
          "metadata": {},
          "execution_count": 10
        }
      ]
    },
    {
      "cell_type": "code",
      "source": [
        "#Criando variavel independente\n",
        "\n",
        "X_custo_diaria = dados_custoDiaria.iloc[:,0].values #buscando todos os registros da primeira coluna e convertendo em formado de array\n",
        "#O comando iloc permite selecionar um conjunto de registros. O dois pontos \":\" significa que estamos selecionando todos os registros e zero \"0\" a primeira coluna.\n",
        "X_custo_diaria\n"
      ],
      "metadata": {
        "colab": {
          "base_uri": "https://localhost:8080/"
        },
        "id": "dN6r1LvP0s0y",
        "outputId": "b60e819b-54bc-47b8-bca5-0712db112c64"
      },
      "execution_count": null,
      "outputs": [
        {
          "output_type": "execute_result",
          "data": {
            "text/plain": [
              "array([ 1,  3,  4,  6,  7, 10, 12, 13, 15, 16, 20, 18, 22, 23, 25, 27, 30,\n",
              "       32, 33, 40, 42, 43, 45, 47, 50, 51, 52, 53, 58, 60])"
            ]
          },
          "metadata": {},
          "execution_count": 11
        }
      ]
    },
    {
      "cell_type": "code",
      "source": [
        "#Criando variável dependente (o que queremos predizer)\n",
        "\n",
        "Y_custo_diaria = dados_custoDiaria.iloc[:,1].values\n",
        "Y_custo_diaria"
      ],
      "metadata": {
        "colab": {
          "base_uri": "https://localhost:8080/"
        },
        "id": "X4uJrGjf1brW",
        "outputId": "914954a0-80c6-4427-eef0-2e81eff812d8"
      },
      "execution_count": null,
      "outputs": [
        {
          "output_type": "execute_result",
          "data": {
            "text/plain": [
              "array([ 150,  200,  650,  499,  549,  980,  700,  735,  859,  900, 1100,\n",
              "        989, 1075, 1378, 1500, 1755, 1850, 2500, 2000, 1900, 2089, 2500,\n",
              "       2250, 2488, 2680, 2803, 2890, 3040, 3150, 3300])"
            ]
          },
          "metadata": {},
          "execution_count": 12
        }
      ]
    },
    {
      "cell_type": "code",
      "source": [
        "np.corrcoef(X_custo_diaria,Y_custo_diaria) #Mostra uma matriz"
      ],
      "metadata": {
        "colab": {
          "base_uri": "https://localhost:8080/"
        },
        "id": "XaGRILmV1siD",
        "outputId": "07f6bfc8-3e94-4d0b-e0b6-36eeb078b126"
      },
      "execution_count": null,
      "outputs": [
        {
          "output_type": "execute_result",
          "data": {
            "text/plain": [
              "array([[1.        , 0.97866601],\n",
              "       [0.97866601, 1.        ]])"
            ]
          },
          "metadata": {},
          "execution_count": 13
        }
      ]
    },
    {
      "cell_type": "markdown",
      "source": [
        "# Correlação"
      ],
      "metadata": {
        "id": "w7InlWVVFLNM"
      }
    },
    {
      "cell_type": "markdown",
      "source": [
        "Correlação positiva: Quando duas variáveis que possuem correlação crescem ou descrescem juntas, ou seja, que possuem uma relação direta;\n",
        "Correlação negativa: Quando duas variáveis que possuem correlação mas quando uma variável cresce a outra descresce, ou vice-versa;\n",
        "Não ter correlação: Quando o crescimetno ou descrescimento de uma variável não tem efeito sobre outra variável."
      ],
      "metadata": {
        "id": "deiN4UL-FSh7"
      }
    },
    {
      "cell_type": "code",
      "source": [
        "correlacao = dados_custoDiaria.corr()\n",
        "# plot da matriz de correlação em formato de gráfico\n",
        "plot = sns.heatmap(correlacao, annot = True, linewidths=.3)\n",
        "plot"
      ],
      "metadata": {
        "colab": {
          "base_uri": "https://localhost:8080/",
          "height": 287
        },
        "id": "zB9Wnb-hF9yM",
        "outputId": "3c29a9ba-a88a-40fa-f396-1d2079d6a69b"
      },
      "execution_count": null,
      "outputs": [
        {
          "output_type": "execute_result",
          "data": {
            "text/plain": [
              "<matplotlib.axes._subplots.AxesSubplot at 0x7fce4c811b50>"
            ]
          },
          "metadata": {},
          "execution_count": 18
        },
        {
          "output_type": "display_data",
          "data": {
            "text/plain": [
              "<Figure size 432x288 with 2 Axes>"
            ],
            "image/png": "[encoded data removed]"
          },
          "metadata": {
            "needs_background": "light"
          }
        }
      ]
    },
    {
      "cell_type": "markdown",
      "source": [
        "Perceba que temos uma correlação forte positiva. Pois a medida que a quantidade de pessoas aumenta o preço da diária também aumenta. Além disso, podemos dizer que em 99% do valor cobrado pelas diárias pode ser explicado pela quantidade de pessoas alugando o imóvel."
      ],
      "metadata": {
        "id": "mNKbxGvuGhHi"
      }
    },
    {
      "cell_type": "markdown",
      "source": [
        "Tratando os dados para o modelo"
      ],
      "metadata": {
        "id": "bIWTdle-G1uS"
      }
    },
    {
      "cell_type": "markdown",
      "source": [
        "Nesse passo e realizado a transformação nos dados. Essa transformação é feita para que os dados possam ter o formato que o algoritmo solicitado como entrada."
      ],
      "metadata": {
        "id": "lARqKhRzG4mT"
      }
    },
    {
      "cell_type": "code",
      "source": [
        "[] #Visualizar o formato da variável\n",
        "X_custo_diaria.shape #"
      ],
      "metadata": {
        "colab": {
          "base_uri": "https://localhost:8080/"
        },
        "id": "KPGMFVAyKIzj",
        "outputId": "a4b62efd-6fd4-4cb2-c9b4-75d089111a2c"
      },
      "execution_count": null,
      "outputs": [
        {
          "output_type": "execute_result",
          "data": {
            "text/plain": [
              "(30,)"
            ]
          },
          "metadata": {},
          "execution_count": 19
        }
      ]
    },
    {
      "cell_type": "code",
      "source": [
        "[] # visualizando variável\n",
        "X_custo_diaria # o resultado mostra que temos um array com apenas uma coluna/dimensão. No entanto, precisamos ter uma matriz com 2 colunas."
      ],
      "metadata": {
        "colab": {
          "base_uri": "https://localhost:8080/"
        },
        "id": "dzc0XTpfKVLq",
        "outputId": "d5b43709-6bc1-42b4-9480-9ae7d4f39499"
      },
      "execution_count": null,
      "outputs": [
        {
          "output_type": "execute_result",
          "data": {
            "text/plain": [
              "array([ 1,  3,  4,  6,  7, 10, 12, 13, 15, 16, 20, 18, 22, 23, 25, 27, 30,\n",
              "       32, 33, 40, 42, 43, 45, 47, 50, 51, 52, 53, 58, 60])"
            ]
          },
          "metadata": {},
          "execution_count": 24
        }
      ]
    },
    {
      "cell_type": "code",
      "source": [
        "[] #\n",
        "X_custo_diaria = X_custo_diaria.reshape(-1,1)\n",
        "X_custo_diaria"
      ],
      "metadata": {
        "colab": {
          "base_uri": "https://localhost:8080/"
        },
        "id": "xfmosZ5eKmsl",
        "outputId": "4a34e2f3-bca8-45f2-d1c1-dcb3411d3259"
      },
      "execution_count": null,
      "outputs": [
        {
          "output_type": "execute_result",
          "data": {
            "text/plain": [
              "array([[ 1],\n",
              "       [ 3],\n",
              "       [ 4],\n",
              "       [ 6],\n",
              "       [ 7],\n",
              "       [10],\n",
              "       [12],\n",
              "       [13],\n",
              "       [15],\n",
              "       [16],\n",
              "       [20],\n",
              "       [18],\n",
              "       [22],\n",
              "       [23],\n",
              "       [25],\n",
              "       [27],\n",
              "       [30],\n",
              "       [32],\n",
              "       [33],\n",
              "       [40],\n",
              "       [42],\n",
              "       [43],\n",
              "       [45],\n",
              "       [47],\n",
              "       [50],\n",
              "       [51],\n",
              "       [52],\n",
              "       [53],\n",
              "       [58],\n",
              "       [60]])"
            ]
          },
          "metadata": {},
          "execution_count": 26
        }
      ]
    },
    {
      "cell_type": "code",
      "source": [
        "[] # Agora temos uma matriz com duas colunas. 10 linhas e uma coluna\n",
        "X_custo_diaria.shape"
      ],
      "metadata": {
        "colab": {
          "base_uri": "https://localhost:8080/"
        },
        "id": "rkG_tjRULGCz",
        "outputId": "ff09e9d5-4b53-41ed-f595-6acf38647767"
      },
      "execution_count": null,
      "outputs": [
        {
          "output_type": "execute_result",
          "data": {
            "text/plain": [
              "(30, 1)"
            ]
          },
          "metadata": {},
          "execution_count": 27
        }
      ]
    },
    {
      "cell_type": "markdown",
      "source": [
        "# Aplicando os dados ao algoritmo de machine de regressão"
      ],
      "metadata": {
        "id": "YzTutAKQM9yU"
      }
    },
    {
      "cell_type": "code",
      "source": [
        "from sklearn.linear_model import LinearRegression\n",
        "# cria um onjeto do tipo regressão linear\n",
        "previsao_custo_diaria = LinearRegression()"
      ],
      "metadata": {
        "id": "5QE-F-S3NGV8"
      },
      "execution_count": null,
      "outputs": []
    },
    {
      "cell_type": "code",
      "source": [
        "type(previsao_custo_diaria)"
      ],
      "metadata": {
        "colab": {
          "base_uri": "https://localhost:8080/"
        },
        "id": "h9mIYkOlNXxe",
        "outputId": "3c6a07f1-fbf0-44cb-ebad-aad1dafac8bb"
      },
      "execution_count": null,
      "outputs": [
        {
          "output_type": "execute_result",
          "data": {
            "text/plain": [
              "sklearn.linear_model._base.LinearRegression"
            ]
          },
          "metadata": {},
          "execution_count": 41
        }
      ]
    },
    {
      "cell_type": "markdown",
      "source": [
        "# Realizando o treinamento do modelo"
      ],
      "metadata": {
        "id": "BZz2K_-aNdvC"
      }
    },
    {
      "cell_type": "code",
      "source": [
        " previsao_custo_diaria.fit(X_custo_diaria, Y_custo_diaria)"
      ],
      "metadata": {
        "colab": {
          "base_uri": "https://localhost:8080/"
        },
        "id": "QKscdyd3Ndk6",
        "outputId": "f6f45eae-9805-4a61-fe14-b180712042c9"
      },
      "execution_count": null,
      "outputs": [
        {
          "output_type": "execute_result",
          "data": {
            "text/plain": [
              "LinearRegression()"
            ]
          },
          "metadata": {},
          "execution_count": 45
        }
      ]
    },
    {
      "cell_type": "code",
      "source": [
        "# Qual o valor retornado intercept da previsão? ::\n",
        "previsao_custo_diaria.intercept_"
      ],
      "metadata": {
        "colab": {
          "base_uri": "https://localhost:8080/"
        },
        "id": "nJnj9nsCN7-7",
        "outputId": "25e7169a-ad87-4cb4-b333-b14eacc8565f"
      },
      "execution_count": null,
      "outputs": [
        {
          "output_type": "execute_result",
          "data": {
            "text/plain": [
              "186.00229281307384"
            ]
          },
          "metadata": {},
          "execution_count": 46
        }
      ]
    },
    {
      "cell_type": "code",
      "source": [
        "#veificando o coeficiente angular da reta :: Qual é o valor do coeficiente angular da reta regressão?::\n",
        "previsao_custo_diaria.coef_"
      ],
      "metadata": {
        "colab": {
          "base_uri": "https://localhost:8080/"
        },
        "id": "3lv6e50BOA8r",
        "outputId": "253374b1-7aae-4e51-8870-ec1c05304607"
      },
      "execution_count": null,
      "outputs": [
        {
          "output_type": "execute_result",
          "data": {
            "text/plain": [
              "array([51.14094547])"
            ]
          },
          "metadata": {},
          "execution_count": 47
        }
      ]
    },
    {
      "cell_type": "markdown",
      "source": [
        "![image.png](data:image/png;base64,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)"
      ],
      "metadata": {
        "id": "-7fwpyTuQGhj"
      }
    },
    {
      "cell_type": "code",
      "source": [
        "previsao_precos = previsao_custo_diaria.predict(X_custo_diaria) #Baseado nos valores de nº de pessoas, vamos estimar/prever o custo do imóvel alugado."
      ],
      "metadata": {
        "id": "gvlIkCtFQNRb"
      },
      "execution_count": null,
      "outputs": []
    },
    {
      "cell_type": "code",
      "source": [
        "#Visualiza das previsões para cada nº de pessoas\n",
        "previsao_precos"
      ],
      "metadata": {
        "colab": {
          "base_uri": "https://localhost:8080/"
        },
        "id": "pWcKCpLxQpRU",
        "outputId": "2a97c8f3-d03a-43d0-d16a-6361ec686caf"
      },
      "execution_count": null,
      "outputs": [
        {
          "output_type": "execute_result",
          "data": {
            "text/plain": [
              "array([ 237.14323829,  339.42512923,  390.5660747 ,  492.84796565,\n",
              "        543.98891112,  697.41174754,  799.69363849,  850.83458396,\n",
              "        953.1164749 , 1004.25742038, 1208.82120227, 1106.53931132,\n",
              "       1311.10309321, 1362.24403869, 1464.52592963, 1566.80782058,\n",
              "       1720.230657  , 1822.51254794, 1873.65349341, 2231.64011172,\n",
              "       2333.92200267, 2385.06294814, 2487.34483909, 2589.62673003,\n",
              "       2743.04956645, 2794.19051192, 2845.3314574 , 2896.47240287,\n",
              "       3152.17713023, 3254.45902118])"
            ]
          },
          "metadata": {},
          "execution_count": 49
        }
      ]
    },
    {
      "cell_type": "markdown",
      "source": [
        "# Visualizando no gráfico as disposições dos dados\n"
      ],
      "metadata": {
        "id": "XTHWCQusQx1x"
      }
    },
    {
      "cell_type": "markdown",
      "source": [
        "Para visualizar os dados no grafico, temos que transformar os valores das variáveis para o formato de vetor. Para isso utilizamos o comando ravel()"
      ],
      "metadata": {
        "id": "YVbAcRS4Q2gT"
      }
    },
    {
      "cell_type": "code",
      "source": [
        "[] # verificando tipo da variavel X_custo_diaria\n",
        "X_custo_diaria"
      ],
      "metadata": {
        "colab": {
          "base_uri": "https://localhost:8080/"
        },
        "id": "Bw5kW9eLRFvN",
        "outputId": "f1135c35-74ac-4e94-baf0-e5353b37a0a8"
      },
      "execution_count": null,
      "outputs": [
        {
          "output_type": "execute_result",
          "data": {
            "text/plain": [
              "array([[ 1],\n",
              "       [ 3],\n",
              "       [ 4],\n",
              "       [ 6],\n",
              "       [ 7],\n",
              "       [10],\n",
              "       [12],\n",
              "       [13],\n",
              "       [15],\n",
              "       [16],\n",
              "       [20],\n",
              "       [18],\n",
              "       [22],\n",
              "       [23],\n",
              "       [25],\n",
              "       [27],\n",
              "       [30],\n",
              "       [32],\n",
              "       [33],\n",
              "       [40],\n",
              "       [42],\n",
              "       [43],\n",
              "       [45],\n",
              "       [47],\n",
              "       [50],\n",
              "       [51],\n",
              "       [52],\n",
              "       [53],\n",
              "       [58],\n",
              "       [60]])"
            ]
          },
          "metadata": {},
          "execution_count": 50
        }
      ]
    },
    {
      "cell_type": "code",
      "source": [
        "X_custo_diaria.ravel() #transformando em um vetor "
      ],
      "metadata": {
        "colab": {
          "base_uri": "https://localhost:8080/"
        },
        "id": "XZJ7OtMLQ356",
        "outputId": "c5f8262b-e5f8-4b7d-ff8c-368001649453"
      },
      "execution_count": null,
      "outputs": [
        {
          "output_type": "execute_result",
          "data": {
            "text/plain": [
              "array([ 1,  3,  4,  6,  7, 10, 12, 13, 15, 16, 20, 18, 22, 23, 25, 27, 30,\n",
              "       32, 33, 40, 42, 43, 45, 47, 50, 51, 52, 53, 58, 60])"
            ]
          },
          "metadata": {},
          "execution_count": 51
        }
      ]
    },
    {
      "cell_type": "code",
      "source": [
        "Y_custo_diaria"
      ],
      "metadata": {
        "colab": {
          "base_uri": "https://localhost:8080/"
        },
        "id": "xxzyxqv8Rrq0",
        "outputId": "25823c4f-0aba-4d30-ba2f-6a0d6ada9e09"
      },
      "execution_count": null,
      "outputs": [
        {
          "output_type": "execute_result",
          "data": {
            "text/plain": [
              "array([ 150,  200,  650,  499,  549,  980,  700,  735,  859,  900, 1100,\n",
              "        989, 1075, 1378, 1500, 1755, 1850, 2500, 2000, 1900, 2089, 2500,\n",
              "       2250, 2488, 2680, 2803, 2890, 3040, 3150, 3300])"
            ]
          },
          "metadata": {},
          "execution_count": 55
        }
      ]
    },
    {
      "cell_type": "code",
      "source": [
        "grafico = px.scatter( x = X_custo_diaria.ravel(), y = Y_custo_diaria) #Mostrando em um grafico as disposições dos valores\n",
        "grafico.show()"
      ],
      "metadata": {
        "colab": {
          "base_uri": "https://localhost:8080/",
          "height": 542
        },
        "id": "EjU5ykwIRvlb",
        "outputId": "0a42b4de-123c-4f67-82c2-41ebc3c3a4f5"
      },
      "execution_count": null,
      "outputs": [
        {
          "output_type": "display_data",
          "data": {
            "text/html": [
              "<html>\n",
              "<head><meta charset=\"utf-8\" /></head>\n",
              "<body>\n",
              "    <div>            <script src=\"https://cdnjs.cloudflare.com/ajax/libs/mathjax/2.7.5/MathJax.js?config=TeX-AMS-MML_SVG\"></script><script type=\"text/javascript\">if (window.MathJax) {MathJax.Hub.Config({SVG: {font: \"STIX-Web\"}});}</script>                <script type=\"text/javascript\">window.PlotlyConfig = {MathJaxConfig: 'local'};</script>\n",
              "        <script src=\"https://cdn.plot.ly/plotly-2.8.3.min.js\"></script>                <div id=\"44971de6-3542-4a3b-a1ca-2e94e90d7136\" class=\"plotly-graph-div\" style=\"height:525px; width:100%;\"></div>            <script type=\"text/javascript\">                                    window.PLOTLYENV=window.PLOTLYENV || {};                                    if (document.getElementById(\"44971de6-3542-4a3b-a1ca-2e94e90d7136\")) {                    Plotly.newPlot(                        \"44971de6-3542-4a3b-a1ca-2e94e90d7136\",                        [{\"hovertemplate\":\"x=%{x}<br>y=%{y}<extra></extra>\",\"legendgroup\":\"\",\"marker\":{\"color\":\"#636efa\",\"symbol\":\"circle\"},\"mode\":\"markers\",\"name\":\"\",\"orientation\":\"v\",\"showlegend\":false,\"x\":[1,3,4,6,7,10,12,13,15,16,20,18,22,23,25,27,30,32,33,40,42,43,45,47,50,51,52,53,58,60],\"xaxis\":\"x\",\"y\":[150,200,650,499,549,980,700,735,859,900,1100,989,1075,1378,1500,1755,1850,2500,2000,1900,2089,2500,2250,2488,2680,2803,2890,3040,3150,3300],\"yaxis\":\"y\",\"type\":\"scatter\"}],                        {\"template\":{\"data\":{\"bar\":[{\"error_x\":{\"color\":\"#2a3f5f\"},\"error_y\":{\"color\":\"#2a3f5f\"},\"marker\":{\"line\":{\"color\":\"#E5ECF6\",\"width\":0.5},\"pattern\":{\"fillmode\":\"overlay\",\"size\":10,\"solidity\":0.2}},\"type\":\"bar\"}],\"barpolar\":[{\"marker\":{\"line\":{\"color\":\"#E5ECF6\",\"width\":0.5},\"pattern\":{\"fillmode\":\"overlay\",\"size\":10,\"solidity\":0.2}},\"type\":\"barpolar\"}],\"carpet\":[{\"aaxis\":{\"endlinecolor\":\"#2a3f5f\",\"gridcolor\":\"white\",\"linecolor\":\"white\",\"minorgridcolor\":\"white\",\"startlinecolor\":\"#2a3f5f\"},\"baxis\":{\"endlinecolor\":\"#2a3f5f\",\"gridcolor\":\"white\",\"linecolor\":\"white\",\"minorgridcolor\":\"white\",\"startlinecolor\":\"#2a3f5f\"},\"type\":\"carpet\"}],\"choropleth\":[{\"colorbar\":{\"outlinewidth\":0,\"ticks\":\"\"},\"type\":\"choropleth\"}],\"contour\":[{\"colorbar\":{\"outlinewidth\":0,\"ticks\":\"\"},\"colorscale\":[[0.0,\"#0d0887\"],[0.1111111111111111,\"#46039f\"],[0.2222222222222222,\"#7201a8\"],[0.3333333333333333,\"#9c179e\"],[0.4444444444444444,\"#bd3786\"],[0.5555555555555556,\"#d8576b\"],[0.6666666666666666,\"#ed7953\"],[0.7777777777777778,\"#fb9f3a\"],[0.8888888888888888,\"#fdca26\"],[1.0,\"#f0f921\"]],\"type\":\"contour\"}],\"contourcarpet\":[{\"colorbar\":{\"outlinewidth\":0,\"ticks\":\"\"},\"type\":\"contourcarpet\"}],\"heatmap\":[{\"colorbar\":{\"outlinewidth\":0,\"ticks\":\"\"},\"colorscale\":[[0.0,\"#0d0887\"],[0.1111111111111111,\"#46039f\"],[0.2222222222222222,\"#7201a8\"],[0.3333333333333333,\"#9c179e\"],[0.4444444444444444,\"#bd3786\"],[0.5555555555555556,\"#d8576b\"],[0.6666666666666666,\"#ed7953\"],[0.7777777777777778,\"#fb9f3a\"],[0.8888888888888888,\"#fdca26\"],[1.0,\"#f0f921\"]],\"type\":\"heatmap\"}],\"heatmapgl\":[{\"colorbar\":{\"outlinewidth\":0,\"ticks\":\"\"},\"colorscale\":[[0.0,\"#0d0887\"],[0.1111111111111111,\"#46039f\"],[0.2222222222222222,\"#7201a8\"],[0.3333333333333333,\"#9c179e\"],[0.4444444444444444,\"#bd3786\"],[0.5555555555555556,\"#d8576b\"],[0.6666666666666666,\"#ed7953\"],[0.7777777777777778,\"#fb9f3a\"],[0.8888888888888888,\"#fdca26\"],[1.0,\"#f0f921\"]],\"type\":\"heatmapgl\"}],\"histogram\":[{\"marker\":{\"pattern\":{\"fillmode\":\"overlay\",\"size\":10,\"solidity\":0.2}},\"type\":\"histogram\"}],\"histogram2d\":[{\"colorbar\":{\"outlinewidth\":0,\"ticks\":\"\"},\"colorscale\":[[0.0,\"#0d0887\"],[0.1111111111111111,\"#46039f\"],[0.2222222222222222,\"#7201a8\"],[0.3333333333333333,\"#9c179e\"],[0.4444444444444444,\"#bd3786\"],[0.5555555555555556,\"#d8576b\"],[0.6666666666666666,\"#ed7953\"],[0.7777777777777778,\"#fb9f3a\"],[0.8888888888888888,\"#fdca26\"],[1.0,\"#f0f921\"]],\"type\":\"histogram2d\"}],\"histogram2dcontour\":[{\"colorbar\":{\"outlinewidth\":0,\"ticks\":\"\"},\"colorscale\":[[0.0,\"#0d0887\"],[0.1111111111111111,\"#46039f\"],[0.2222222222222222,\"#7201a8\"],[0.3333333333333333,\"#9c179e\"],[0.4444444444444444,\"#bd3786\"],[0.5555555555555556,\"#d8576b\"],[0.6666666666666666,\"#ed7953\"],[0.7777777777777778,\"#fb9f3a\"],[0.8888888888888888,\"#fdca26\"],[1.0,\"#f0f921\"]],\"type\":\"histogram2dcontour\"}],\"mesh3d\":[{\"colorbar\":{\"outlinewidth\":0,\"ticks\":\"\"},\"type\":\"mesh3d\"}],\"parcoords\":[{\"line\":{\"colorbar\":{\"outlinewidth\":0,\"ticks\":\"\"}},\"type\":\"parcoords\"}],\"pie\":[{\"automargin\":true,\"type\":\"pie\"}],\"scatter\":[{\"marker\":{\"colorbar\":{\"outlinewidth\":0,\"ticks\":\"\"}},\"type\":\"scatter\"}],\"scatter3d\":[{\"line\":{\"colorbar\":{\"outlinewidth\":0,\"ticks\":\"\"}},\"marker\":{\"colorbar\":{\"outlinewidth\":0,\"ticks\":\"\"}},\"type\":\"scatter3d\"}],\"scattercarpet\":[{\"marker\":{\"colorbar\":{\"outlinewidth\":0,\"ticks\":\"\"}},\"type\":\"scattercarpet\"}],\"scattergeo\":[{\"marker\":{\"colorbar\":{\"outlinewidth\":0,\"ticks\":\"\"}},\"type\":\"scattergeo\"}],\"scattergl\":[{\"marker\":{\"colorbar\":{\"outlinewidth\":0,\"ticks\":\"\"}},\"type\":\"scattergl\"}],\"scattermapbox\":[{\"marker\":{\"colorbar\":{\"outlinewidth\":0,\"ticks\":\"\"}},\"type\":\"scattermapbox\"}],\"scatterpolar\":[{\"marker\":{\"colorbar\":{\"outlinewidth\":0,\"ticks\":\"\"}},\"type\":\"scatterpolar\"}],\"scatterpolargl\":[{\"marker\":{\"colorbar\":{\"outlinewidth\":0,\"ticks\":\"\"}},\"type\":\"scatterpolargl\"}],\"scatterternary\":[{\"marker\":{\"colorbar\":{\"outlinewidth\":0,\"ticks\":\"\"}},\"type\":\"scatterternary\"}],\"surface\":[{\"colorbar\":{\"outlinewidth\":0,\"ticks\":\"\"},\"colorscale\":[[0.0,\"#0d0887\"],[0.1111111111111111,\"#46039f\"],[0.2222222222222222,\"#7201a8\"],[0.3333333333333333,\"#9c179e\"],[0.4444444444444444,\"#bd3786\"],[0.5555555555555556,\"#d8576b\"],[0.6666666666666666,\"#ed7953\"],[0.7777777777777778,\"#fb9f3a\"],[0.8888888888888888,\"#fdca26\"],[1.0,\"#f0f921\"]],\"type\":\"surface\"}],\"table\":[{\"cells\":{\"fill\":{\"color\":\"#EBF0F8\"},\"line\":{\"color\":\"white\"}},\"header\":{\"fill\":{\"color\":\"#C8D4E3\"},\"line\":{\"color\":\"white\"}},\"type\":\"table\"}]},\"layout\":{\"annotationdefaults\":{\"arrowcolor\":\"#2a3f5f\",\"arrowhead\":0,\"arrowwidth\":1},\"autotypenumbers\":\"strict\",\"coloraxis\":{\"colorbar\":{\"outlinewidth\":0,\"ticks\":\"\"}},\"colorscale\":{\"diverging\":[[0,\"#8e0152\"],[0.1,\"#c51b7d\"],[0.2,\"#de77ae\"],[0.3,\"#f1b6da\"],[0.4,\"#fde0ef\"],[0.5,\"#f7f7f7\"],[0.6,\"#e6f5d0\"],[0.7,\"#b8e186\"],[0.8,\"#7fbc41\"],[0.9,\"#4d9221\"],[1,\"#276419\"]],\"sequential\":[[0.0,\"#0d0887\"],[0.1111111111111111,\"#46039f\"],[0.2222222222222222,\"#7201a8\"],[0.3333333333333333,\"#9c179e\"],[0.4444444444444444,\"#bd3786\"],[0.5555555555555556,\"#d8576b\"],[0.6666666666666666,\"#ed7953\"],[0.7777777777777778,\"#fb9f3a\"],[0.8888888888888888,\"#fdca26\"],[1.0,\"#f0f921\"]],\"sequentialminus\":[[0.0,\"#0d0887\"],[0.1111111111111111,\"#46039f\"],[0.2222222222222222,\"#7201a8\"],[0.3333333333333333,\"#9c179e\"],[0.4444444444444444,\"#bd3786\"],[0.5555555555555556,\"#d8576b\"],[0.6666666666666666,\"#ed7953\"],[0.7777777777777778,\"#fb9f3a\"],[0.8888888888888888,\"#fdca26\"],[1.0,\"#f0f921\"]]},\"colorway\":[\"#636efa\",\"#EF553B\",\"#00cc96\",\"#ab63fa\",\"#FFA15A\",\"#19d3f3\",\"#FF6692\",\"#B6E880\",\"#FF97FF\",\"#FECB52\"],\"font\":{\"color\":\"#2a3f5f\"},\"geo\":{\"bgcolor\":\"white\",\"lakecolor\":\"white\",\"landcolor\":\"#E5ECF6\",\"showlakes\":true,\"showland\":true,\"subunitcolor\":\"white\"},\"hoverlabel\":{\"align\":\"left\"},\"hovermode\":\"closest\",\"mapbox\":{\"style\":\"light\"},\"paper_bgcolor\":\"white\",\"plot_bgcolor\":\"#E5ECF6\",\"polar\":{\"angularaxis\":{\"gridcolor\":\"white\",\"linecolor\":\"white\",\"ticks\":\"\"},\"bgcolor\":\"#E5ECF6\",\"radialaxis\":{\"gridcolor\":\"white\",\"linecolor\":\"white\",\"ticks\":\"\"}},\"scene\":{\"xaxis\":{\"backgroundcolor\":\"#E5ECF6\",\"gridcolor\":\"white\",\"gridwidth\":2,\"linecolor\":\"white\",\"showbackground\":true,\"ticks\":\"\",\"zerolinecolor\":\"white\"},\"yaxis\":{\"backgroundcolor\":\"#E5ECF6\",\"gridcolor\":\"white\",\"gridwidth\":2,\"linecolor\":\"white\",\"showbackground\":true,\"ticks\":\"\",\"zerolinecolor\":\"white\"},\"zaxis\":{\"backgroundcolor\":\"#E5ECF6\",\"gridcolor\":\"white\",\"gridwidth\":2,\"linecolor\":\"white\",\"showbackground\":true,\"ticks\":\"\",\"zerolinecolor\":\"white\"}},\"shapedefaults\":{\"line\":{\"color\":\"#2a3f5f\"}},\"ternary\":{\"aaxis\":{\"gridcolor\":\"white\",\"linecolor\":\"white\",\"ticks\":\"\"},\"baxis\":{\"gridcolor\":\"white\",\"linecolor\":\"white\",\"ticks\":\"\"},\"bgcolor\":\"#E5ECF6\",\"caxis\":{\"gridcolor\":\"white\",\"linecolor\":\"white\",\"ticks\":\"\"}},\"title\":{\"x\":0.05},\"xaxis\":{\"automargin\":true,\"gridcolor\":\"white\",\"linecolor\":\"white\",\"ticks\":\"\",\"title\":{\"standoff\":15},\"zerolinecolor\":\"white\",\"zerolinewidth\":2},\"yaxis\":{\"automargin\":true,\"gridcolor\":\"white\",\"linecolor\":\"white\",\"ticks\":\"\",\"title\":{\"standoff\":15},\"zerolinecolor\":\"white\",\"zerolinewidth\":2}}},\"xaxis\":{\"anchor\":\"y\",\"domain\":[0.0,1.0],\"title\":{\"text\":\"x\"}},\"yaxis\":{\"anchor\":\"x\",\"domain\":[0.0,1.0],\"title\":{\"text\":\"y\"}},\"legend\":{\"tracegroupgap\":0},\"margin\":{\"t\":60}},                        {\"responsive\": true}                    ).then(function(){\n",
              "                            \n",
              "var gd = document.getElementById('44971de6-3542-4a3b-a1ca-2e94e90d7136');\n",
              "var x = new MutationObserver(function (mutations, observer) {{\n",
              "        var display = window.getComputedStyle(gd).display;\n",
              "        if (!display || display === 'none') {{\n",
              "            console.log([gd, 'removed!']);\n",
              "            Plotly.purge(gd);\n",
              "            observer.disconnect();\n",
              "        }}\n",
              "}});\n",
              "\n",
              "// Listen for the removal of the full notebook cells\n",
              "var notebookContainer = gd.closest('#notebook-container');\n",
              "if (notebookContainer) {{\n",
              "    x.observe(notebookContainer, {childList: true});\n",
              "}}\n",
              "\n",
              "// Listen for the clearing of the current output cell\n",
              "var outputEl = gd.closest('.output');\n",
              "if (outputEl) {{\n",
              "    x.observe(outputEl, {childList: true});\n",
              "}}\n",
              "\n",
              "                        })                };                            </script>        </div>\n",
              "</body>\n",
              "</html>"
            ]
          },
          "metadata": {}
        }
      ]
    },
    {
      "cell_type": "code",
      "source": [
        "grafico = px.scatter( x = X_custo_diaria.ravel(), y = Y_custo_diaria) \n",
        "grafico.add_scatter( x = X_custo_diaria.ravel(), y = previsao_precos, name= 'Previsões') \n",
        "grafico.show()"
      ],
      "metadata": {
        "colab": {
          "base_uri": "https://localhost:8080/",
          "height": 542
        },
        "id": "_ER0TFqySmpV",
        "outputId": "d9942702-45a0-49cb-fe42-2442ad3140c9"
      },
      "execution_count": null,
      "outputs": [
        {
          "output_type": "display_data",
          "data": {
            "text/html": [
              "<html>\n",
              "<head><meta charset=\"utf-8\" /></head>\n",
              "<body>\n",
              "    <div>            <script src=\"https://cdnjs.cloudflare.com/ajax/libs/mathjax/2.7.5/MathJax.js?config=TeX-AMS-MML_SVG\"></script><script type=\"text/javascript\">if (window.MathJax) {MathJax.Hub.Config({SVG: {font: \"STIX-Web\"}});}</script>                <script type=\"text/javascript\">window.PlotlyConfig = {MathJaxConfig: 'local'};</script>\n",
              "        <script src=\"https://cdn.plot.ly/plotly-2.8.3.min.js\"></script>                <div id=\"d81cbc05-3aeb-479e-a092-4b41bbfedd6f\" class=\"plotly-graph-div\" style=\"height:525px; width:100%;\"></div>            <script type=\"text/javascript\">                                    window.PLOTLYENV=window.PLOTLYENV || {};                                    if (document.getElementById(\"d81cbc05-3aeb-479e-a092-4b41bbfedd6f\")) {                    Plotly.newPlot(                        \"d81cbc05-3aeb-479e-a092-4b41bbfedd6f\",                        [{\"hovertemplate\":\"x=%{x}<br>y=%{y}<extra></extra>\",\"legendgroup\":\"\",\"marker\":{\"color\":\"#636efa\",\"symbol\":\"circle\"},\"mode\":\"markers\",\"name\":\"\",\"orientation\":\"v\",\"showlegend\":false,\"x\":[1,3,4,6,7,10,12,13,15,16,20,18,22,23,25,27,30,32,33,40,42,43,45,47,50,51,52,53,58,60],\"xaxis\":\"x\",\"y\":[150,200,650,499,549,980,700,735,859,900,1100,989,1075,1378,1500,1755,1850,2500,2000,1900,2089,2500,2250,2488,2680,2803,2890,3040,3150,3300],\"yaxis\":\"y\",\"type\":\"scatter\"},{\"name\":\"Previs\\u00f5es\",\"x\":[1,3,4,6,7,10,12,13,15,16,20,18,22,23,25,27,30,32,33,40,42,43,45,47,50,51,52,53,58,60],\"y\":[237.14323828581018,339.4251292312829,390.56607470401923,492.8479656494919,543.9889111222283,697.4117475404373,799.69363848591,850.8345839586464,953.1164749041191,1004.2574203768554,1208.8212022678008,1106.539311322328,1311.1030932132735,1362.2440386860098,1464.5259296314825,1566.8078205769552,1720.2306569951643,1822.512547940637,1873.6534934133733,2231.6401117225278,2333.9220026680005,2385.062948140737,2487.3448390862095,2589.626730031682,2743.0495664498912,2794.1905119226276,2845.331457395364,2896.4724028681003,3152.177130231782,3254.4590211772547],\"type\":\"scatter\"}],                        {\"template\":{\"data\":{\"bar\":[{\"error_x\":{\"color\":\"#2a3f5f\"},\"error_y\":{\"color\":\"#2a3f5f\"},\"marker\":{\"line\":{\"color\":\"#E5ECF6\",\"width\":0.5},\"pattern\":{\"fillmode\":\"overlay\",\"size\":10,\"solidity\":0.2}},\"type\":\"bar\"}],\"barpolar\":[{\"marker\":{\"line\":{\"color\":\"#E5ECF6\",\"width\":0.5},\"pattern\":{\"fillmode\":\"overlay\",\"size\":10,\"solidity\":0.2}},\"type\":\"barpolar\"}],\"carpet\":[{\"aaxis\":{\"endlinecolor\":\"#2a3f5f\",\"gridcolor\":\"white\",\"linecolor\":\"white\",\"minorgridcolor\":\"white\",\"startlinecolor\":\"#2a3f5f\"},\"baxis\":{\"endlinecolor\":\"#2a3f5f\",\"gridcolor\":\"white\",\"linecolor\":\"white\",\"minorgridcolor\":\"white\",\"startlinecolor\":\"#2a3f5f\"},\"type\":\"carpet\"}],\"choropleth\":[{\"colorbar\":{\"outlinewidth\":0,\"ticks\":\"\"},\"type\":\"choropleth\"}],\"contour\":[{\"colorbar\":{\"outlinewidth\":0,\"ticks\":\"\"},\"colorscale\":[[0.0,\"#0d0887\"],[0.1111111111111111,\"#46039f\"],[0.2222222222222222,\"#7201a8\"],[0.3333333333333333,\"#9c179e\"],[0.4444444444444444,\"#bd3786\"],[0.5555555555555556,\"#d8576b\"],[0.6666666666666666,\"#ed7953\"],[0.7777777777777778,\"#fb9f3a\"],[0.8888888888888888,\"#fdca26\"],[1.0,\"#f0f921\"]],\"type\":\"contour\"}],\"contourcarpet\":[{\"colorbar\":{\"outlinewidth\":0,\"ticks\":\"\"},\"type\":\"contourcarpet\"}],\"heatmap\":[{\"colorbar\":{\"outlinewidth\":0,\"ticks\":\"\"},\"colorscale\":[[0.0,\"#0d0887\"],[0.1111111111111111,\"#46039f\"],[0.2222222222222222,\"#7201a8\"],[0.3333333333333333,\"#9c179e\"],[0.4444444444444444,\"#bd3786\"],[0.5555555555555556,\"#d8576b\"],[0.6666666666666666,\"#ed7953\"],[0.7777777777777778,\"#fb9f3a\"],[0.8888888888888888,\"#fdca26\"],[1.0,\"#f0f921\"]],\"type\":\"heatmap\"}],\"heatmapgl\":[{\"colorbar\":{\"outlinewidth\":0,\"ticks\":\"\"},\"colorscale\":[[0.0,\"#0d0887\"],[0.1111111111111111,\"#46039f\"],[0.2222222222222222,\"#7201a8\"],[0.3333333333333333,\"#9c179e\"],[0.4444444444444444,\"#bd3786\"],[0.5555555555555556,\"#d8576b\"],[0.6666666666666666,\"#ed7953\"],[0.7777777777777778,\"#fb9f3a\"],[0.8888888888888888,\"#fdca26\"],[1.0,\"#f0f921\"]],\"type\":\"heatmapgl\"}],\"histogram\":[{\"marker\":{\"pattern\":{\"fillmode\":\"overlay\",\"size\":10,\"solidity\":0.2}},\"type\":\"histogram\"}],\"histogram2d\":[{\"colorbar\":{\"outlinewidth\":0,\"ticks\":\"\"},\"colorscale\":[[0.0,\"#0d0887\"],[0.1111111111111111,\"#46039f\"],[0.2222222222222222,\"#7201a8\"],[0.3333333333333333,\"#9c179e\"],[0.4444444444444444,\"#bd3786\"],[0.5555555555555556,\"#d8576b\"],[0.6666666666666666,\"#ed7953\"],[0.7777777777777778,\"#fb9f3a\"],[0.8888888888888888,\"#fdca26\"],[1.0,\"#f0f921\"]],\"type\":\"histogram2d\"}],\"histogram2dcontour\":[{\"colorbar\":{\"outlinewidth\":0,\"ticks\":\"\"},\"colorscale\":[[0.0,\"#0d0887\"],[0.1111111111111111,\"#46039f\"],[0.2222222222222222,\"#7201a8\"],[0.3333333333333333,\"#9c179e\"],[0.4444444444444444,\"#bd3786\"],[0.5555555555555556,\"#d8576b\"],[0.6666666666666666,\"#ed7953\"],[0.7777777777777778,\"#fb9f3a\"],[0.8888888888888888,\"#fdca26\"],[1.0,\"#f0f921\"]],\"type\":\"histogram2dcontour\"}],\"mesh3d\":[{\"colorbar\":{\"outlinewidth\":0,\"ticks\":\"\"},\"type\":\"mesh3d\"}],\"parcoords\":[{\"line\":{\"colorbar\":{\"outlinewidth\":0,\"ticks\":\"\"}},\"type\":\"parcoords\"}],\"pie\":[{\"automargin\":true,\"type\":\"pie\"}],\"scatter\":[{\"marker\":{\"colorbar\":{\"outlinewidth\":0,\"ticks\":\"\"}},\"type\":\"scatter\"}],\"scatter3d\":[{\"line\":{\"colorbar\":{\"outlinewidth\":0,\"ticks\":\"\"}},\"marker\":{\"colorbar\":{\"outlinewidth\":0,\"ticks\":\"\"}},\"type\":\"scatter3d\"}],\"scattercarpet\":[{\"marker\":{\"colorbar\":{\"outlinewidth\":0,\"ticks\":\"\"}},\"type\":\"scattercarpet\"}],\"scattergeo\":[{\"marker\":{\"colorbar\":{\"outlinewidth\":0,\"ticks\":\"\"}},\"type\":\"scattergeo\"}],\"scattergl\":[{\"marker\":{\"colorbar\":{\"outlinewidth\":0,\"ticks\":\"\"}},\"type\":\"scattergl\"}],\"scattermapbox\":[{\"marker\":{\"colorbar\":{\"outlinewidth\":0,\"ticks\":\"\"}},\"type\":\"scattermapbox\"}],\"scatterpolar\":[{\"marker\":{\"colorbar\":{\"outlinewidth\":0,\"ticks\":\"\"}},\"type\":\"scatterpolar\"}],\"scatterpolargl\":[{\"marker\":{\"colorbar\":{\"outlinewidth\":0,\"ticks\":\"\"}},\"type\":\"scatterpolargl\"}],\"scatterternary\":[{\"marker\":{\"colorbar\":{\"outlinewidth\":0,\"ticks\":\"\"}},\"type\":\"scatterternary\"}],\"surface\":[{\"colorbar\":{\"outlinewidth\":0,\"ticks\":\"\"},\"colorscale\":[[0.0,\"#0d0887\"],[0.1111111111111111,\"#46039f\"],[0.2222222222222222,\"#7201a8\"],[0.3333333333333333,\"#9c179e\"],[0.4444444444444444,\"#bd3786\"],[0.5555555555555556,\"#d8576b\"],[0.6666666666666666,\"#ed7953\"],[0.7777777777777778,\"#fb9f3a\"],[0.8888888888888888,\"#fdca26\"],[1.0,\"#f0f921\"]],\"type\":\"surface\"}],\"table\":[{\"cells\":{\"fill\":{\"color\":\"#EBF0F8\"},\"line\":{\"color\":\"white\"}},\"header\":{\"fill\":{\"color\":\"#C8D4E3\"},\"line\":{\"color\":\"white\"}},\"type\":\"table\"}]},\"layout\":{\"annotationdefaults\":{\"arrowcolor\":\"#2a3f5f\",\"arrowhead\":0,\"arrowwidth\":1},\"autotypenumbers\":\"strict\",\"coloraxis\":{\"colorbar\":{\"outlinewidth\":0,\"ticks\":\"\"}},\"colorscale\":{\"diverging\":[[0,\"#8e0152\"],[0.1,\"#c51b7d\"],[0.2,\"#de77ae\"],[0.3,\"#f1b6da\"],[0.4,\"#fde0ef\"],[0.5,\"#f7f7f7\"],[0.6,\"#e6f5d0\"],[0.7,\"#b8e186\"],[0.8,\"#7fbc41\"],[0.9,\"#4d9221\"],[1,\"#276419\"]],\"sequential\":[[0.0,\"#0d0887\"],[0.1111111111111111,\"#46039f\"],[0.2222222222222222,\"#7201a8\"],[0.3333333333333333,\"#9c179e\"],[0.4444444444444444,\"#bd3786\"],[0.5555555555555556,\"#d8576b\"],[0.6666666666666666,\"#ed7953\"],[0.7777777777777778,\"#fb9f3a\"],[0.8888888888888888,\"#fdca26\"],[1.0,\"#f0f921\"]],\"sequentialminus\":[[0.0,\"#0d0887\"],[0.1111111111111111,\"#46039f\"],[0.2222222222222222,\"#7201a8\"],[0.3333333333333333,\"#9c179e\"],[0.4444444444444444,\"#bd3786\"],[0.5555555555555556,\"#d8576b\"],[0.6666666666666666,\"#ed7953\"],[0.7777777777777778,\"#fb9f3a\"],[0.8888888888888888,\"#fdca26\"],[1.0,\"#f0f921\"]]},\"colorway\":[\"#636efa\",\"#EF553B\",\"#00cc96\",\"#ab63fa\",\"#FFA15A\",\"#19d3f3\",\"#FF6692\",\"#B6E880\",\"#FF97FF\",\"#FECB52\"],\"font\":{\"color\":\"#2a3f5f\"},\"geo\":{\"bgcolor\":\"white\",\"lakecolor\":\"white\",\"landcolor\":\"#E5ECF6\",\"showlakes\":true,\"showland\":true,\"subunitcolor\":\"white\"},\"hoverlabel\":{\"align\":\"left\"},\"hovermode\":\"closest\",\"mapbox\":{\"style\":\"light\"},\"paper_bgcolor\":\"white\",\"plot_bgcolor\":\"#E5ECF6\",\"polar\":{\"angularaxis\":{\"gridcolor\":\"white\",\"linecolor\":\"white\",\"ticks\":\"\"},\"bgcolor\":\"#E5ECF6\",\"radialaxis\":{\"gridcolor\":\"white\",\"linecolor\":\"white\",\"ticks\":\"\"}},\"scene\":{\"xaxis\":{\"backgroundcolor\":\"#E5ECF6\",\"gridcolor\":\"white\",\"gridwidth\":2,\"linecolor\":\"white\",\"showbackground\":true,\"ticks\":\"\",\"zerolinecolor\":\"white\"},\"yaxis\":{\"backgroundcolor\":\"#E5ECF6\",\"gridcolor\":\"white\",\"gridwidth\":2,\"linecolor\":\"white\",\"showbackground\":true,\"ticks\":\"\",\"zerolinecolor\":\"white\"},\"zaxis\":{\"backgroundcolor\":\"#E5ECF6\",\"gridcolor\":\"white\",\"gridwidth\":2,\"linecolor\":\"white\",\"showbackground\":true,\"ticks\":\"\",\"zerolinecolor\":\"white\"}},\"shapedefaults\":{\"line\":{\"color\":\"#2a3f5f\"}},\"ternary\":{\"aaxis\":{\"gridcolor\":\"white\",\"linecolor\":\"white\",\"ticks\":\"\"},\"baxis\":{\"gridcolor\":\"white\",\"linecolor\":\"white\",\"ticks\":\"\"},\"bgcolor\":\"#E5ECF6\",\"caxis\":{\"gridcolor\":\"white\",\"linecolor\":\"white\",\"ticks\":\"\"}},\"title\":{\"x\":0.05},\"xaxis\":{\"automargin\":true,\"gridcolor\":\"white\",\"linecolor\":\"white\",\"ticks\":\"\",\"title\":{\"standoff\":15},\"zerolinecolor\":\"white\",\"zerolinewidth\":2},\"yaxis\":{\"automargin\":true,\"gridcolor\":\"white\",\"linecolor\":\"white\",\"ticks\":\"\",\"title\":{\"standoff\":15},\"zerolinecolor\":\"white\",\"zerolinewidth\":2}}},\"xaxis\":{\"anchor\":\"y\",\"domain\":[0.0,1.0],\"title\":{\"text\":\"x\"}},\"yaxis\":{\"anchor\":\"x\",\"domain\":[0.0,1.0],\"title\":{\"text\":\"y\"}},\"legend\":{\"tracegroupgap\":0},\"margin\":{\"t\":60}},                        {\"responsive\": true}                    ).then(function(){\n",
              "                            \n",
              "var gd = document.getElementById('d81cbc05-3aeb-479e-a092-4b41bbfedd6f');\n",
              "var x = new MutationObserver(function (mutations, observer) {{\n",
              "        var display = window.getComputedStyle(gd).display;\n",
              "        if (!display || display === 'none') {{\n",
              "            console.log([gd, 'removed!']);\n",
              "            Plotly.purge(gd);\n",
              "            observer.disconnect();\n",
              "        }}\n",
              "}});\n",
              "\n",
              "// Listen for the removal of the full notebook cells\n",
              "var notebookContainer = gd.closest('#notebook-container');\n",
              "if (notebookContainer) {{\n",
              "    x.observe(notebookContainer, {childList: true});\n",
              "}}\n",
              "\n",
              "// Listen for the clearing of the current output cell\n",
              "var outputEl = gd.closest('.output');\n",
              "if (outputEl) {{\n",
              "    x.observe(outputEl, {childList: true});\n",
              "}}\n",
              "\n",
              "                        })                };                            </script>        </div>\n",
              "</body>\n",
              "</html>"
            ]
          },
          "metadata": {}
        }
      ]
    },
    {
      "cell_type": "code",
      "source": [
        "#verificando os valores de uma determinada previsão baseada na quantidade de pessoas\n",
        "qtd_pessoas = 8\n",
        "previsao_custo_diaria.intercept_+previsao_custo_diaria.coef_*qtd_pessoas"
      ],
      "metadata": {
        "colab": {
          "base_uri": "https://localhost:8080/"
        },
        "id": "JCGoNgC8S_-s",
        "outputId": "8a58492b-0e2d-467c-be83-0750e0cc251d"
      },
      "execution_count": null,
      "outputs": [
        {
          "output_type": "execute_result",
          "data": {
            "text/plain": [
              "array([595.12985659])"
            ]
          },
          "metadata": {},
          "execution_count": 78
        }
      ]
    },
    {
      "cell_type": "code",
      "source": [
        "qtd_pessoas = 17\n",
        "previsao_custo_diaria.intercept_+previsao_custo_diaria.coef_*qtd_pessoas"
      ],
      "metadata": {
        "colab": {
          "base_uri": "https://localhost:8080/"
        },
        "id": "NWW2McLDTaEs",
        "outputId": "a4c89c1c-0e7b-4857-dc8e-df19af5b4714"
      },
      "execution_count": null,
      "outputs": [
        {
          "output_type": "execute_result",
          "data": {
            "text/plain": [
              "array([1055.39836585])"
            ]
          },
          "metadata": {},
          "execution_count": 65
        }
      ]
    },
    {
      "cell_type": "code",
      "source": [
        "#verificando de modo direto\n",
        "previsao_custo_diaria.predict([[8]])"
      ],
      "metadata": {
        "colab": {
          "base_uri": "https://localhost:8080/"
        },
        "id": "SM_Ia_IZTtI9",
        "outputId": "32111f1b-7f18-424c-e4ca-87b0fc1cbb49"
      },
      "execution_count": null,
      "outputs": [
        {
          "output_type": "execute_result",
          "data": {
            "text/plain": [
              "array([595.12985659])"
            ]
          },
          "metadata": {},
          "execution_count": 71
        }
      ]
    },
    {
      "cell_type": "code",
      "source": [
        "#Indica a qualidade do algoritmo do algoritmo (Quanto mais próximo de 1, melhor a qualidade do modelo)\n",
        "previsao_custo_diaria.score(X_custo_diaria, Y_custo_diaria)"
      ],
      "metadata": {
        "colab": {
          "base_uri": "https://localhost:8080/"
        },
        "id": "H3HSYachUNBE",
        "outputId": "8e9ff222-d961-47d0-b5f2-6860fae95491"
      },
      "execution_count": null,
      "outputs": [
        {
          "output_type": "execute_result",
          "data": {
            "text/plain": [
              "0.9577871649322629"
            ]
          },
          "metadata": {},
          "execution_count": 74
        }
      ]
    },
    {
      "cell_type": "code",
      "source": [
        "#Visualizando os erros do modelo\n",
        "from sklearn.metrics import mean_squared_error, mean_absolute_error\n",
        "MSE = mean_squared_error(Y_custo_diaria, previsao_precos)"
      ],
      "metadata": {
        "id": "GZXol80aU0j8"
      },
      "execution_count": null,
      "outputs": []
    },
    {
      "cell_type": "code",
      "source": [
        "#calculando MAR erro absoluto mean_absolute_error\n",
        "mean_absolute_error(Y_custo_diaria, previsao_precos)"
      ],
      "metadata": {
        "colab": {
          "base_uri": "https://localhost:8080/"
        },
        "id": "xj1Q0e6TXGjV",
        "outputId": "7e8c7e03-411a-464e-edca-34d29fc068d4"
      },
      "execution_count": null,
      "outputs": [
        {
          "output_type": "execute_result",
          "data": {
            "text/plain": [
              "138.91296481574125"
            ]
          },
          "metadata": {},
          "execution_count": 80
        }
      ]
    },
    {
      "cell_type": "code",
      "source": [
        "# Calculando RMS - mean_squared_error\n",
        "np.sqrt(MSE)"
      ],
      "metadata": {
        "colab": {
          "base_uri": "https://localhost:8080/"
        },
        "id": "VTY-PtIPXUR0",
        "outputId": "073e122a-c0ab-4096-aa61-5b58a5df6fb4"
      },
      "execution_count": null,
      "outputs": [
        {
          "output_type": "execute_result",
          "data": {
            "text/plain": [
              "192.0095789285297"
            ]
          },
          "metadata": {},
          "execution_count": 81
        }
      ]
    }
  ]
}
